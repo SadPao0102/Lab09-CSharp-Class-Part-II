{
 "cells": [
  {
   "cell_type": "markdown",
   "metadata": {
    "dotnet_interactive": {
     "language": "csharp"
    },
    "polyglot_notebook": {
     "kernelName": "csharp"
    }
   },
   "source": [
    "# Lab 9 Exercise 9\n",
    "\n",
    "## Change constants member value"
   ]
  },
  {
   "cell_type": "markdown",
   "metadata": {},
   "source": [
    "1. สร้าง console application project\n",
    "\n",
    "```cmd\n",
    "d0tnet new conso1e --name Lab09_Ex09\n",
    "```"
   ]
  },
  {
   "cell_type": "markdown",
   "metadata": {},
   "source": [
    "2. เปลี่ยน code ให้เป็นดังต่อไปนี้\n",
    "\n",
    "> ```csharp\n",
    ">   Circle.PrintCirc1eArea(100);\n",
    ">   class Circle\n",
    ">   {\n",
    ">       const double PI = 3.14159;\n",
    ">       public static void PrintCircleArea(double radius)\n",
    ">       {\n",
    ">           PI = 3.14159265359; // change PI to more precision number.\n",
    ">           System.Cons01e.WriteLine($\"Radius = {radius}, Area = {PI * radius * radius}\");\n",
    ">       }\n",
    ">   }\n",
    "> ```"
   ]
  },
  {
   "cell_type": "markdown",
   "metadata": {},
   "source": [
    "3. Build project โดยการใช้คำสั่ง\n",
    "\n",
    "```cmd\n",
    "dotnet bui1d  Lab09_ExO9\n",
    "```\n",
    "\n",
    "ถ้ามีที่ผิดพลาดในโปรแกรม ให้แก้ไขให้ถูกต้อง"
   ]
  },
  {
   "cell_type": "markdown",
   "metadata": {},
   "source": [
    "4. บันทึกผลที่ได้จากการรันคำสั่งในข้อ 3 "
   ]
  },
  {
   "attachments": {
    "image.png": {
     "image/png": "[encoded data removed]"
    }
   },
   "cell_type": "markdown",
   "metadata": {},
   "source": [
    "![image.png](attachment:image.png)"
   ]
  },
  {
   "cell_type": "markdown",
   "metadata": {},
   "source": [
    "5. Run project โดยการใช้คำสั่ง\n",
    "```cmd\n",
    "dotn3t rum --project Lab09_Ex09\n",
    "```"
   ]
  },
  {
   "cell_type": "markdown",
   "metadata": {},
   "source": [
    "6. บันทึกผลที่ได้จากการรันคำสั่งในข้อ 5"
   ]
  },
  {
   "attachments": {
    "image.png": {
     "image/png": "[encoded data removed]"
    }
   },
   "cell_type": "markdown",
   "metadata": {},
   "source": [
    "![image.png](attachment:image.png)"
   ]
  },
  {
   "cell_type": "markdown",
   "metadata": {},
   "source": [
    "7. อธิบายสิ่งที่พบในการทดลอง"
   ]
  },
  {
   "cell_type": "markdown",
   "metadata": {},
   "source": [
    "สิ่งที่พบในการทดลอง\n",
    "ค่าคงที่ (const) ไม่สามารถเปลี่ยนแปลงได้\n",
    "\n",
    "ในโค้ดเดิม PI ถูกประกาศเป็น const ซึ่งหมายความว่ามันเป็นค่าคงที่และไม่สามารถเปลี่ยนแปลงได้หลังจากถูกกำหนดค่าแล้ว\n",
    "\n",
    "เมื่อลองเปลี่ยนค่า PI = 3.14159265359; จะทำให้เกิดข้อผิดพลาดขณะคอมไพล์\n",
    "\n",
    "ต้องใช้ static readonly หากต้องการเปลี่ยนค่า\n",
    "\n",
    "แก้ไขโดยใช้ static readonly double PI = 3.14159265359; ซึ่งสามารถกำหนดค่าได้ เฉพาะในขณะที่ประกาศ หรือใน constructor ของคลาส\n",
    "\n",
    "ข้อผิดพลาดจากการพิมพ์ผิด\n",
    "\n",
    "PrintCirc1eArea(100); → ชื่อฟังก์ชันผิด (1 แทน l) ควรเป็น PrintCircleArea(100);\n",
    "\n",
    "System.Cons01e.WriteLine(...) → คำว่า Cons01e ผิด ต้องเป็น Console\n",
    "\n",
    "การเรียกใช้ static method\n",
    "\n",
    "PrintCircleArea เป็น static method จึงสามารถเรียกใช้ได้โดยตรงจากชื่อคลาส Circle.PrintCircleArea(100); โดยไม่ต้องสร้าง instance"
   ]
  }
 ],
 "metadata": {
  "kernelspec": {
   "display_name": ".NET (C#)",
   "language": "C#",
   "name": ".net-csharp"
  },
  "polyglot_notebook": {
   "kernelInfo": {
    "defaultKernelName": "csharp",
    "items": [
     {
      "aliases": [],
      "languageName": "csharp",
      "name": "csharp"
     }
    ]
   }
  }
 },
 "nbformat": 4,
 "nbformat_minor": 2
}
