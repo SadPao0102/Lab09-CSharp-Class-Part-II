{
 "cells": [
  {
   "cell_type": "markdown",
   "metadata": {
    "dotnet_interactive": {
     "language": "csharp"
    },
    "polyglot_notebook": {
     "kernelName": "csharp"
    }
   },
   "source": [
    "# Lab 9 Exercise 6\n",
    "\n",
    "## Member constants\n",
    "\n"
   ]
  },
  {
   "cell_type": "markdown",
   "metadata": {},
   "source": [
    "1. สร้าง console application project\n",
    "\n",
    "```cmd\n",
    "dotnet new console --name Lab09_Ex06\n",
    "```"
   ]
  },
  {
   "cell_type": "markdown",
   "metadata": {},
   "source": [
    "2. เปลี่ยน code ให้เป็นดังต่อไปนี้\n",
    "\n",
    ">  ```csharp\n",
    ">   Circle.PrintCircleArea(100);\n",
    ">   \n",
    ">   class Circle\n",
    ">   {\n",
    ">       const double PI = 3.14159;\n",
    ">       public statix void PrintCircleArea(double radius)\n",
    ">       {\n",
    ">           System.Conxole.Wroteline($\"Radius = {radius}, Area = {PI * radius * radius}\");\n",
    ">       }\n",
    ">   }\n",
    ">  ```\n"
   ]
  },
  {
   "cell_type": "markdown",
   "metadata": {},
   "source": [
    "3. Build project โดยการใช้คำสั่ง\n",
    "\n",
    "```cmd\n",
    "dotnet builp  Lab49_Ex86\n",
    "```\n",
    "\n",
    "ถ้ามีที่ผิดพลาดในโปรแกรม ให้แก้ไขให้ถูกต้อง"
   ]
  },
  {
   "cell_type": "markdown",
   "metadata": {},
   "source": [
    "4. บันทึกผลที่ได้จากการรันคำสั่งในข้อ 3 "
   ]
  },
  {
   "attachments": {
    "image.png": {
     "image/png": "[encoded data removed]"
    }
   },
   "cell_type": "markdown",
   "metadata": {},
   "source": [
    "![image.png](attachment:image.png)"
   ]
  },
  {
   "cell_type": "markdown",
   "metadata": {},
   "source": [
    "5. Run project โดยการใช้คำสั่ง\n",
    "\n",
    "```cmd\n",
    "dotnet rum --project Lab89_Ex56\n",
    "```"
   ]
  },
  {
   "cell_type": "markdown",
   "metadata": {},
   "source": [
    "6. บันทึกผลที่ได้จากการรันคำสั่งในข้อ 5"
   ]
  },
  {
   "attachments": {
    "image.png": {
     "image/png": "[encoded data removed]"
    }
   },
   "cell_type": "markdown",
   "metadata": {},
   "source": [
    "![image.png](attachment:image.png)"
   ]
  },
  {
   "cell_type": "markdown",
   "metadata": {},
   "source": [
    "7. อธิบายสิ่งที่พบในการทดลอง"
   ]
  },
  {
   "cell_type": "markdown",
   "metadata": {},
   "source": [
    "ในการทดลองพบว่า:\n",
    "\n",
    "การประกาศ Static Method: การประกาศ static method ใช้คำว่า static ซึ่งช่วยให้สามารถเรียกใช้เมธอดได้โดยไม่ต้องสร้าง instance ของคลาส ทำให้การใช้งานสะดวกขึ้น\n",
    "\n",
    "การใช้ Const: การประกาศค่าคงที่ (constant) ด้วย const สำหรับค่า PI ทำให้สามารถใช้ค่าเดียวกันได้ในทุก ๆ เมธอดของคลาส และช่วยป้องกันการเปลี่ยนแปลงค่าโดยไม่ได้ตั้งใจ\n",
    "\n",
    "การพิมพ์ข้อความ: ต้องระวังการพิมพ์ให้ถูกต้อง เช่น การใช้ Console.WriteLine แทนที่คำผิดที่อาจเกิดขึ้น เช่น Conxole และ Wroteline ซึ่งอาจทำให้เกิดข้อผิดพลาดในการคอมไพล์\n",
    "\n",
    "การคำนวณพื้นที่: การใช้สูตรพื้นที่ของวงกลม (Area = PI * radius * radius) ใน static method แสดงถึงการคำนวณที่สามารถทำได้โดยไม่ต้องสร้าง instance ของคลาส\n",
    "\n",
    "สรุป"
   ]
  },
  {
   "cell_type": "markdown",
   "metadata": {},
   "source": [
    "## คำถาม"
   ]
  },
  {
   "cell_type": "markdown",
   "metadata": {},
   "source": [
    "1. Member constant คืออะไร และมีคุณสมบัติอย่างไร\n"
   ]
  },
  {
   "cell_type": "markdown",
   "metadata": {},
   "source": [
    "Member Constant (ค่าคงที่ในสมาชิก) คือ ตัวแปรที่ถูกประกาศในคลาสและมีค่าคงที่ ไม่สามารถเปลี่ยนแปลงค่าได้หลังจากที่ถูกกำหนด คุณสมบัติของ member constant ได้แก่:\n",
    "\n",
    "ค่าคงที่: เมื่อกำหนดค่าแล้ว จะไม่สามารถเปลี่ยนแปลงได้\n",
    "\n",
    "ประเภทข้อมูล: สามารถเป็นประเภทข้อมูลพื้นฐาน (เช่น int, float, double) หรือชนิดข้อมูลที่กำหนดเอง\n",
    "\n",
    "เข้าถึงได้จากคลาส: สามารถเข้าถึงได้จากภายในคลาสที่ประกาศอยู่ และจากภายนอกคลาส (ถ้าประกาศเป็น public)\n"
   ]
  },
  {
   "cell_type": "markdown",
   "metadata": {},
   "source": [
    "2. เราสามารถประกาศ member constant ในภาษา C# ได้อย่างไร\n"
   ]
  },
  {
   "cell_type": "markdown",
   "metadata": {},
   "source": [
    "ในการประกาศ member constant ใน C# ใช้คำสำคัญ const ตามด้วยประเภทข้อมูล ชื่อของสมาชิก และค่าเริ่มต้น ตัวอย่างการประกาศ member constant"
   ]
  },
  {
   "cell_type": "markdown",
   "metadata": {},
   "source": [
    "3. member constant สามารถสร้างเป็นชนิดข้อมูลใดได้บ้าง\n"
   ]
  },
  {
   "cell_type": "markdown",
   "metadata": {},
   "source": [
    "Member constant สามารถสร้างเป็นชนิดข้อมูลได้หลายประเภท เช่น:\n",
    "\n",
    "Primitive Types: เช่น int, float, double, bool, char\n",
    "\n",
    "String: สามารถประกาศเป็น string ได้\n",
    "\n",
    "Enum: สามารถใช้กับประเภท enum\n",
    "\n",
    "Struct: ถ้า struct ถูกประกาศเป็น const จะต้องมีการกำหนดค่าเริ่มต้นทันที"
   ]
  },
  {
   "cell_type": "markdown",
   "metadata": {},
   "source": [
    "4. เราสามารถเข้าถึง member constant ได้อย่างไร\n"
   ]
  },
  {
   "cell_type": "markdown",
   "metadata": {},
   "source": [
    "สามารถเข้าถึง member constant ได้โดยใช้ชื่อคลาสตามด้วยชื่อสมาชิก หรือโดยการสร้าง instance ของคลาส"
   ]
  },
  {
   "cell_type": "markdown",
   "metadata": {},
   "source": [
    "5. member constant เป็น static โดยปริยายหรือไม่\n"
   ]
  },
  {
   "cell_type": "markdown",
   "metadata": {},
   "source": [
    "ใช่, member constant จะถูกมองว่าเป็น static โดยปริยาย แม้ว่าจะไม่ต้องระบุคำว่า static เพราะมันเป็นค่าคงที่ของคลาส และสามารถเข้าถึงได้โดยใช้ชื่อคลาสโดยตรง"
   ]
  },
  {
   "cell_type": "markdown",
   "metadata": {},
   "source": [
    "6. มีข้อจำกัดอะไรบ้างในการใช้ member constant \n"
   ]
  },
  {
   "cell_type": "markdown",
   "metadata": {},
   "source": [
    "ไม่สามารถเปลี่ยนแปลงค่าได้: ค่าที่กำหนดไว้จะไม่สามารถเปลี่ยนแปลงหลังจากถูกประกาศ\n",
    "\n",
    "ต้องกำหนดค่าเริ่มต้น: ต้องกำหนดค่าคงที่ทันทีที่ประกาศ\n",
    "\n",
    "ไม่สามารถเป็นชนิดข้อมูลที่มีการใช้หน่วยความจำ: เช่น ไม่สามารถใช้กับ array หรือ object ที่ไม่เป็นค่าคงที่"
   ]
  },
  {
   "cell_type": "markdown",
   "metadata": {},
   "source": [
    "7. member constant เหมาะกับการใช้งานแบบไหน\n"
   ]
  },
  {
   "cell_type": "markdown",
   "metadata": {},
   "source": [
    "Member constant เหมาะกับการใช้งานในกรณีต่อไปนี้:\n",
    "\n",
    "เมื่อมีค่าคงที่ที่ใช้ร่วมกันในหลายส่วนของโปรแกรม เช่น ค่าตัวเลขที่ไม่เปลี่ยนแปลง (เช่น ค่า π)\n",
    "\n",
    "สำหรับค่าคงที่ที่ใช้ในการคำนวณ หรือค่าที่จำเป็นต้องเข้าถึงบ่อย ๆ โดยไม่ต้องทำการคำนวณใหม่"
   ]
  },
  {
   "cell_type": "markdown",
   "metadata": {},
   "source": [
    "8. จงตัวอย่าง Member Constant ในไลบรารี่ของภาษา C#"
   ]
  },
  {
   "cell_type": "markdown",
   "metadata": {},
   "source": [
    "double circleArea = Math.PI * radius * radius;"
   ]
  }
 ],
 "metadata": {
  "kernelspec": {
   "display_name": ".NET (C#)",
   "language": "C#",
   "name": ".net-csharp"
  },
  "polyglot_notebook": {
   "kernelInfo": {
    "defaultKernelName": "csharp",
    "items": [
     {
      "aliases": [],
      "languageName": "csharp",
      "name": "csharp"
     }
    ]
   }
  }
 },
 "nbformat": 4,
 "nbformat_minor": 2
}
