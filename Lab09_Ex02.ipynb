{
 "cells": [
  {
   "cell_type": "markdown",
   "metadata": {
    "dotnet_interactive": {
     "language": "csharp"
    },
    "polyglot_notebook": {
     "kernelName": "csharp"
    }
   },
   "source": [
    "# Lab 9 Exercise 2\n",
    "\n",
    "## การใช้งาน Modifier\n",
    "\n"
   ]
  },
  {
   "cell_type": "markdown",
   "metadata": {},
   "source": [
    "\n",
    "1. สร้าง console application project\n",
    "\n",
    "```\n",
    "    dothet new conwole __name Lab09_Ex02\n",
    "```\n"
   ]
  },
  {
   "cell_type": "markdown",
   "metadata": {},
   "source": [
    "\n",
    "2. เปลี่ยน code ให้เป็นดังต่อไปนี้\n",
    "\n",
    ">  ```csharp\n",
    ">       Person.name = \"___________________\";\n",
    ">       System.Cons01e.WrifeLine(Person.GetName());\n",
    ">       \n",
    ">       static Class Person\n",
    ">       {\n",
    ">           stαtic pub1ic  string? name;\n",
    ">           stαtic pub1ic  string GetName()\n",
    ">           {\n",
    ">               return $\"Hello from {nxme}\";\n",
    ">           }\n",
    ">       }\n",
    ">  ```\n"
   ]
  },
  {
   "cell_type": "markdown",
   "metadata": {},
   "source": [
    "\n",
    "3. Build project โดยการใช้คำสั่ง\n",
    "\n",
    "```cmd\n",
    "    dotpet build  Lab09_Ex52\n",
    "```\n",
    "\n",
    "ถ้ามีที่ผิดพลาดในโปรแกรม ให้แก้ไขให้ถูกต้อง\n",
    "\n"
   ]
  },
  {
   "cell_type": "markdown",
   "metadata": {},
   "source": []
  },
  {
   "cell_type": "markdown",
   "metadata": {},
   "source": [
    "\n",
    "4. บันทึกผลที่ได้จากการรันคำสั่งในข้อ 3\n"
   ]
  },
  {
   "attachments": {
    "image.png": {
     "image/png": "[encoded data removed]"
    }
   },
   "cell_type": "markdown",
   "metadata": {},
   "source": [
    "![image.png](attachment:image.png)"
   ]
  },
  {
   "cell_type": "markdown",
   "metadata": {},
   "source": [
    "\n",
    "5. Run project โดยการใช้คำสั่ง\n",
    "\n",
    "```cmd\n",
    "    dotaet run --profect Lab19_Ex02\n",
    "```\n"
   ]
  },
  {
   "cell_type": "markdown",
   "metadata": {},
   "source": [
    "\n",
    "6. บันทึกผลที่ได้จากการรันคำสั่งในข้อ 5\n"
   ]
  },
  {
   "attachments": {
    "image.png": {
     "image/png": "[encoded data removed]"
    }
   },
   "cell_type": "markdown",
   "metadata": {},
   "source": [
    "![image.png](attachment:image.png)"
   ]
  },
  {
   "cell_type": "markdown",
   "metadata": {},
   "source": [
    "\n",
    "7. อธิบายสิ่งที่พบในการทดลอง"
   ]
  },
  {
   "cell_type": "markdown",
   "metadata": {},
   "source": [
    "จากการทดลองที่ทำ พบข้อผิดพลาดหลายประการในโค้ดเดิมที่ส่งผลให้ไม่สามารถคอมไพล์และทำงานได้อย่างถูกต้อง ข้อผิดพลาดเหล่านี้รวมถึงการสะกดคำผิดในฟังก์ชันและตัวแปร เช่น Cons01e แทน Console และ nxme แทน name รวมถึงการใช้ตัวอักษรที่ไม่ถูกต้อง (stαtic pub1ic แทน static public)\n",
    "\n",
    "หลังจากแก้ไขโค้ดให้ถูกต้อง โปรแกรมสามารถทำงานได้และแสดงผลลัพธ์เป็น ชื่อที่เราตั้ง ซึ่งยืนยันว่าโครงสร้างและการเรียกใช้ฟังก์ชันทำงานได้ตามที่คาดหวัง\n",
    "\n",
    "\n",
    "\n",
    "\n",
    "\n",
    "\n",
    "\n",
    "\n"
   ]
  },
  {
   "cell_type": "markdown",
   "metadata": {},
   "source": [
    "## คำถาม"
   ]
  },
  {
   "cell_type": "markdown",
   "metadata": {},
   "source": [
    "1. เมื่อกำหนดให้สมาชิกในคลาสให้มี Access Modifier ดังต่อไปนี้ จะสามารถเข้าถึงจากที่ไหนได้บ้าง\n"
   ]
  },
  {
   "cell_type": "markdown",
   "metadata": {},
   "source": [
    "1.1 public"
   ]
  },
  {
   "cell_type": "markdown",
   "metadata": {},
   "source": [
    "สามารถเข้าถึงได้จาก ทุกที่ ไม่ว่าจะอยู่ในคลาสเดียวกัน, คลาสอื่น, หรือแม้แต่โปรเจกต์อื่นที่อ้างอิงอยู่\n",
    "\n",
    "เหมาะสำหรับฟังก์ชันหรือข้อมูลที่ต้องการให้ใช้งานได้จากทุกส่วนของโปรแกรม\n",
    "\n"
   ]
  },
  {
   "cell_type": "markdown",
   "metadata": {},
   "source": [
    "1.2 private"
   ]
  },
  {
   "cell_type": "markdown",
   "metadata": {},
   "source": [
    "สามารถเข้าถึงได้ เฉพาะภายในคลาสเดียวกัน เท่านั้น\n",
    "\n",
    "คลาสอื่น ไม่สามารถเข้าถึง ได้แม้ว่าจะเป็นคลาสที่สืบทอดมาก็ตาม\n",
    "\n",
    "ใช้สำหรับข้อมูลที่ต้องการ ป้องกันการเข้าถึงจากภายนอก และต้องควบคุมการใช้งานผ่านเมธอดภายใน"
   ]
  },
  {
   "cell_type": "markdown",
   "metadata": {},
   "source": [
    "1.3 protected"
   ]
  },
  {
   "cell_type": "markdown",
   "metadata": {},
   "source": [
    "สามารถเข้าถึงได้จาก คลาสเดียวกัน และคลาสที่สืบทอด (inherit) เท่านั้น\n",
    "\n",
    "คลาสอื่นที่ไม่ได้สืบทอดจะ ไม่สามารถเข้าถึง ได้\n",
    "\n",
    "ใช้สำหรับข้อมูลที่ต้องการให้คลาสลูกใช้งานได้ แต่ไม่ต้องการให้คลาสอื่น ๆ เข้าถึงโดยตรง"
   ]
  },
  {
   "cell_type": "markdown",
   "metadata": {},
   "source": [
    "1.4 internal"
   ]
  },
  {
   "cell_type": "markdown",
   "metadata": {},
   "source": [
    "สามารถเข้าถึงได้จาก ภายในโปรเจกต์เดียวกัน (Assembly เดียวกัน)\n",
    "\n",
    "คลาสที่อยู่ คนละโปรเจกต์ จะไม่สามารถเข้าถึงได้ เว้นแต่มีการกำหนด InternalsVisibleTo\n",
    "\n",
    "ใช้เมื่อเราต้องการ จำกัดการเข้าถึงให้อยู่ภายในโปรเจกต์เดียวกัน"
   ]
  },
  {
   "cell_type": "markdown",
   "metadata": {},
   "source": [
    "1.5 protected internal"
   ]
  },
  {
   "cell_type": "markdown",
   "metadata": {},
   "source": [
    "สามารถเข้าถึงได้จาก คลาสที่อยู่ในโปรเจกต์เดียวกัน (เหมือน internal)\n",
    "\n",
    "สามารถเข้าถึงได้จาก คลาสที่สืบทอด แม้ว่าจะอยู่นอกโปรเจกต์ก็ตาม (เหมือน protected)\n",
    "\n",
    "ใช้สำหรับข้อมูลที่ต้องการให้ทั้ง คลาสลูกสามารถเข้าถึง ได้ และ สามารถใช้ได้ภายในโปรเจกต์เดียวกัน"
   ]
  }
 ],
 "metadata": {
  "kernelspec": {
   "display_name": ".NET (C#)",
   "language": "C#",
   "name": ".net-csharp"
  },
  "polyglot_notebook": {
   "kernelInfo": {
    "defaultKernelName": "csharp",
    "items": [
     {
      "aliases": [],
      "languageName": "csharp",
      "name": "csharp"
     }
    ]
   }
  }
 },
 "nbformat": 4,
 "nbformat_minor": 2
}
