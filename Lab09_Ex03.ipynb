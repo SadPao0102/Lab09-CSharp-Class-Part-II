{
 "cells": [
  {
   "cell_type": "markdown",
   "metadata": {
    "dotnet_interactive": {
     "language": "csharp"
    },
    "polyglot_notebook": {
     "kernelName": "csharp"
    }
   },
   "source": [
    "# Lab 9 Exercise 3\n",
    "\n",
    "## Instance vs static members\n"
   ]
  },
  {
   "cell_type": "markdown",
   "metadata": {},
   "source": [
    "\n",
    "1. สร้าง console application project\n",
    "\n",
    "```cmd\n",
    "    dotnet new console --name Lab09_Ex03\n",
    "```\n"
   ]
  },
  {
   "cell_type": "markdown",
   "metadata": {},
   "source": [
    "\n",
    "2. เปลี่ยน code ให้เป็นดังต่อไปนี้\n",
    "\n",
    "```csharp\n",
    "    Person.name = \"____Person name _____\";\n",
    "    System.Cοnsο1e.write1ine(Person.GetName());\n",
    "    var student = new Student();\n",
    "    student.name = \"_______student name_______\";\n",
    "    System.Conso1e.ωrite1ine(student.GetName());\n",
    "\n",
    "    static Class Person\n",
    "    {\n",
    "        static  pub1ic string? name;\n",
    "        static  pub1ic string GetName()\n",
    "        {\n",
    "            return $\"Hello from {nawe}\";\n",
    "        }\n",
    "    }\n",
    "\n",
    "    class Student : Person\n",
    "    {\n",
    "        \n",
    "    }\n",
    "```\n"
   ]
  },
  {
   "cell_type": "markdown",
   "metadata": {},
   "source": [
    "\n",
    "3. Build project โดยการใช้คำสั่ง\n",
    "\n",
    "```cmd\n",
    "dotnet bul1d  Lab09_Ex03\n",
    "```\n",
    "\n",
    "ถ้ามีที่ผิดพลาดในโปรแกรม ให้แก้ไขให้ถูกต้อง\n"
   ]
  },
  {
   "cell_type": "markdown",
   "metadata": {},
   "source": []
  },
  {
   "cell_type": "markdown",
   "metadata": {},
   "source": [
    "\n",
    "4. บันทึกผลที่ได้จากการรันคำสั่งในข้อ 3 \n"
   ]
  },
  {
   "attachments": {
    "image.png": {
     "image/png": "[encoded data removed]"
    }
   },
   "cell_type": "markdown",
   "metadata": {},
   "source": [
    "![image.png](attachment:image.png)"
   ]
  },
  {
   "cell_type": "markdown",
   "metadata": {},
   "source": [
    "\n",
    "5. Run project โดยการใช้คำสั่ง\n",
    "\n",
    "```cmd\n",
    "dotnet rum --project Lab09_Ex03\n",
    "```\n"
   ]
  },
  {
   "cell_type": "markdown",
   "metadata": {},
   "source": [
    "\n",
    "6. บันทึกผลที่ได้จากการรันคำสั่งในข้อ 5\n"
   ]
  },
  {
   "attachments": {
    "สกรีนช็อต 2025-04-01 013207.png": {
     "image/png": "[encoded data removed]"
    }
   },
   "cell_type": "markdown",
   "metadata": {},
   "source": [
    "![สกรีนช็อต 2025-04-01 013207.png](<attachment:สกรีนช็อต 2025-04-01 013207.png>)"
   ]
  },
  {
   "cell_type": "markdown",
   "metadata": {},
   "source": [
    "\n",
    "7. อธิบายสิ่งที่พบในการทดลอง"
   ]
  },
  {
   "cell_type": "markdown",
   "metadata": {},
   "source": [
    "สิ่งที่พบในการทดลอง:\n",
    "\n",
    "โค้ดเดิมมีตัวสะกดผิด เช่น Cοnsο1e แทน Console และ nawe แทน name\n",
    "\n",
    "Person เป็น static class ทำให้สืบทอด (Student : Person) ไม่ได้\n",
    "\n",
    "name เป็น static ทำให้ค่าถูกแชร์ระหว่างทุกอ็อบเจ็กต์ แก้โดยใช้ตัวแปรปกติ\n",
    "\n"
   ]
  },
  {
   "cell_type": "markdown",
   "metadata": {},
   "source": [
    "## คำถาม"
   ]
  },
  {
   "cell_type": "markdown",
   "metadata": {},
   "source": [
    "1. ในภาษา C# นั้น Instance members และ static members  แตกต่างกันอย่างไร"
   ]
  },
  {
   "cell_type": "markdown",
   "metadata": {},
   "source": [
    "ใน C#\n",
    "\n",
    "Instance Members: เป็นสมาชิกของอ็อบเจ็กต์ ต้องสร้างอินสแตนซ์เพื่อเข้าถึง แต่ละอ็อบเจ็กต์มีค่าแยกกัน\n",
    "\n",
    "Static Members: เป็นสมาชิกของคลาส ใช้ร่วมกันทุกอินสแตนซ์ ไม่ต้องสร้างอ็อบเจ็กต์เพื่อเข้าถึง"
   ]
  },
  {
   "cell_type": "markdown",
   "metadata": {},
   "source": [
    "2. เข้าถึง Instance members และ static members มีหลักการที่แตกต่างกันอย่างไร"
   ]
  },
  {
   "cell_type": "markdown",
   "metadata": {},
   "source": [
    "Instance Members: ต้องใช้ instance ของคลาสในการเข้าถึง\n",
    "\n",
    "Static Members: เข้าถึงได้โดยใช้ชื่อคลาสโดยตรง ไม่ต้องสร้าง instance\n",
    "\n",
    "\n",
    "\n",
    "\n",
    "\n",
    "\n",
    "\n",
    "\n"
   ]
  },
  {
   "cell_type": "markdown",
   "metadata": {},
   "source": [
    "3. Instance members และ static members เหมาะกับการใช้งานแบบไหน"
   ]
  },
  {
   "cell_type": "markdown",
   "metadata": {},
   "source": [
    "ใช้ Instance Members สำหรับข้อมูลหรือพฤติกรรมเฉพาะเจาะจงที่เกี่ยวข้องกับอ็อบเจ็กต์\n",
    "\n",
    "ใช้ Static Members สำหรับข้อมูลหรือฟังก์ชันที่ต้องการให้ใช้ร่วมกันระหว่างอ็อบเจ็กต์หรือไม่ต้องการข้อมูลจากอ็อบเจ็กต์"
   ]
  },
  {
   "cell_type": "markdown",
   "metadata": {},
   "source": [
    "4. Instance members และ static members ใช้หน่วยความจำต่างกันอย่างไร"
   ]
  },
  {
   "cell_type": "markdown",
   "metadata": {},
   "source": [
    "Instance Members: ใช้หน่วยความจำแยกกันสำหรับแต่ละอ็อบเจ็กต์ และจะเพิ่มขึ้นตามจำนวนอ็อบเจ็กต์ที่สร้าง\n",
    "\n",
    "Static Members: ใช้หน่วยความจำเพียงครั้งเดียวสำหรับคลาส และใช้ร่วมกันระหว่างทุกอ็อบเจ็กต์ของคลาสนั้น ๆ ซึ่งช่วยลดการใช้หน่วยความจำเมื่อมีอ็อบเจ็กต์หลายตัว\n",
    "\n",
    "\n",
    "\n",
    "\n",
    "\n",
    "\n",
    "\n",
    "\n"
   ]
  },
  {
   "cell_type": "markdown",
   "metadata": {},
   "source": [
    "5. Instance members และ static members มีอายุการใช้งานต่างกันอย่างไร"
   ]
  },
  {
   "cell_type": "markdown",
   "metadata": {},
   "source": [
    "Instance Members: มีอายุการใช้งานตามอายุการใช้งานของอ็อบเจ็กต์\n",
    "\n",
    "Static Members: มีอายุการใช้งานตลอดอายุการทำงานของโปรแกรม และจะไม่ถูกทำลายจนกว่าโปรแกรมจะสิ้นสุด"
   ]
  },
  {
   "cell_type": "markdown",
   "metadata": {},
   "source": [
    "6. Instance members และ static members สามารถใช้งานร่วมกันได้หรือไม่"
   ]
  },
  {
   "cell_type": "markdown",
   "metadata": {},
   "source": [
    "สามารถใช้งานร่วมกันได้: Static members สามารถเข้าถึง instance members ได้ (ต้องมีอ็อบเจ็กต์) แต่ instance members ไม่สามารถเข้าถึง static members ได้โดยตรง (ต้องใช้ชื่อคลาส)\n",
    "\n",
    "มีข้อจำกัดในการเข้าถึง: การเข้าถึงต้องมีการระบุอ็อบเจ็กต์สำหรับ instance members และใช้ชื่อคลาสสำหรับ static members"
   ]
  },
  {
   "cell_type": "markdown",
   "metadata": {},
   "source": [
    "7. keyword static ใช้กับสมาชิกประเภทใดของคลาสได้บ้าง"
   ]
  },
  {
   "cell_type": "markdown",
   "metadata": {},
   "source": [
    "คำสำคัญ static สามารถใช้กับ:\n",
    "\n",
    "Static Fields\n",
    "\n",
    "Static Methods\n",
    "\n",
    "Static Properties\n",
    "\n",
    "Static Constructors\n",
    "\n",
    "การใช้ static ช่วยให้สมาชิกเหล่านี้มีการจัดการและเข้าถึงได้ง่ายขึ้น โดยไม่ต้องสร้าง instance ของคลาส\n",
    "\n",
    "\n",
    "\n",
    "\n",
    "\n",
    "\n",
    "\n",
    "\n"
   ]
  }
 ],
 "metadata": {
  "kernelspec": {
   "display_name": ".NET (C#)",
   "language": "C#",
   "name": ".net-csharp"
  },
  "polyglot_notebook": {
   "kernelInfo": {
    "defaultKernelName": "csharp",
    "items": [
     {
      "aliases": [],
      "languageName": "csharp",
      "name": "csharp"
     }
    ]
   }
  }
 },
 "nbformat": 4,
 "nbformat_minor": 2
}
