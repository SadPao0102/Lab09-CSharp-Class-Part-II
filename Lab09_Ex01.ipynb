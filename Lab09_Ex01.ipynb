{
 "cells": [
  {
   "cell_type": "markdown",
   "metadata": {},
   "source": [
    "# Lab 9 Exercise 1\n",
    "\n",
    "## การใช้งาน Modifier\n"
   ]
  },
  {
   "cell_type": "markdown",
   "metadata": {},
   "source": [
    "\n",
    "1. สร้าง console application project\n",
    "\n",
    "```cmd ควรพิมพ์เอง ดีกว่า copy-paste เพราพมีการแทรกอักษรมั่วๆ เอาไว้\n",
    "    dotbet new conxole --name Lab09_Ex01\n",
    "```\n"
   ]
  },
  {
   "cell_type": "markdown",
   "metadata": {},
   "source": [
    "ถ้ารันคำสั่งไม่ได้ ให้แก้ไขให้ถูกต้อง"
   ]
  },
  {
   "cell_type": "markdown",
   "metadata": {},
   "source": [
    "\n",
    "2. เปลี่ยน code ให้เป็นดังต่อไปนี้\n",
    "\n",
    "> ```csharp\n",
    ">   Person.name = \"_________________\";\n",
    ">   System.conso1e.writ1ine(Person.GetName());\n",
    ">   \n",
    ">   static class Person\n",
    ">   {\n",
    ">       public static st__ng? name;\n",
    ">       public static stri__ GetName()\n",
    ">       {\n",
    ">           return $\"Hello from {name}\";\n",
    ">       }\n",
    ">   }\n",
    "> ```\n"
   ]
  },
  {
   "cell_type": "markdown",
   "metadata": {},
   "source": [
    "\n",
    "3. Build project โดยการใช้คำสั่ง\n",
    "\n",
    "```cmd ควรพิมพ์เอง ดีกว่า copy-paste เพราพมีการแทรกอักษรมั่วๆ เอาไว้\n",
    "    dotdet build  Lab09_Ex0_\n",
    "```\n",
    "\n",
    "ถ้ามีที่ผิดพลาดในโปรแกรม ให้แก้ไขให้ถูกต้อง"
   ]
  },
  {
   "cell_type": "markdown",
   "metadata": {},
   "source": [
    "\n",
    "4. บันทึกผลที่ได้จากการรันคำสั่งในข้อ 3\n"
   ]
  },
  {
   "attachments": {
    "image.png": {
     "image/png": "[encoded data removed]"
    }
   },
   "cell_type": "markdown",
   "metadata": {},
   "source": [
    "![image.png](attachment:image.png)"
   ]
  },
  {
   "cell_type": "markdown",
   "metadata": {},
   "source": [
    "\n",
    "5. Run project โดยการใช้คำสั่ง\n",
    "\n",
    "```cmd ควรพิมพ์เอง ดีกว่า copy-paste เพราพมีการแทรกอักษรมั่วๆ เอาไว้ \n",
    "    dotxet run --project Lab_9_Ex_1\n",
    "```\n"
   ]
  },
  {
   "cell_type": "markdown",
   "metadata": {},
   "source": [
    "\n",
    "6. บันทึกผลที่ได้จากการรันคำสั่งในข้อ 5\n"
   ]
  },
  {
   "attachments": {
    "image.png": {
     "image/png": "[encoded data removed]"
    }
   },
   "cell_type": "markdown",
   "metadata": {},
   "source": [
    "![image.png](attachment:image.png)"
   ]
  },
  {
   "cell_type": "markdown",
   "metadata": {},
   "source": [
    "\n",
    "7. อธิบายสิ่งที่พบในการทดลอง"
   ]
  },
  {
   "cell_type": "markdown",
   "metadata": {},
   "source": [
    "ในการทดลองนี้พบปัญหาหลายอย่างที่ทำให้โค้ดไม่สามารถทำงานได้อย่างที่คาดหวัง ซึ่งเกี่ยวกับการสะกดคำและการใช้ไวยากรณ์ในภาษา C# ที่ผิดพลาด เช่น:\n",
    "\n",
    "การสะกดผิด: คำบางคำในโค้ดสะกดผิด ทำให้โปรแกรมไม่สามารถทำงานได้ เช่น:\n",
    "\n",
    "System.conso1e.writ1ine ที่ควรจะเป็น System.Console.WriteLine\n",
    "\n",
    "st__ng? ที่ควรจะเป็น string?\n",
    "\n",
    "stri__ ที่ควรจะเป็น string\n",
    "\n",
    "ตัวแปร name: ตัวแปร name ถูกประกาศด้วยไวยากรณ์ที่ไม่ถูกต้อง st__ng? ซึ่งควรจะเป็น string? ในภาษา C# เพื่อให้สามารถรับค่าที่เป็น null ได้\n",
    "\n",
    "ผลลัพธ์ของโปรแกรม: ถ้าแก้ไขข้อผิดพลาดเหล่านี้แล้ว โปรแกรมจะทำงานได้ โดยโปรแกรมจะตั้งค่า name เป็น \"_________________\" และเมื่อเรียกใช้ Person.GetName() มันจะส่งกลับข้อความว่า \"Hello from _________________\"\n",
    "\n",
    "วิธีแก้ไข:"
   ]
  },
  {
   "cell_type": "markdown",
   "metadata": {},
   "source": [
    "## คำถาม"
   ]
  },
  {
   "cell_type": "markdown",
   "metadata": {},
   "source": [
    "1. Static field และ static method ต่างจาก instance field และ instance method อย่างไร"
   ]
  },
  {
   "cell_type": "markdown",
   "metadata": {},
   "source": [
    "Static field และ static method จะต่างจาก instance field และ instance method ตรงที่ว่า:\n",
    "\n",
    "Static จะเป็นสิ่งที่เกี่ยวข้องกับ คลาส (class) ไม่ใช่ อ็อบเจกต์ (object) ดังนั้น ถ้ามีตัวแปรหรือฟังก์ชันที่เป็น static มันจะถูกแชร์ร่วมกันระหว่างอ็อบเจกต์ทุกตัวจากคลาสนั้น\n",
    "\n",
    "Instance จะเป็นสิ่งที่เกี่ยวข้องกับ อ็อบเจกต์ (object) แต่ละตัว หมายความว่าแต่ละอ็อบเจกต์จะมีสำเนาของตัวแปรหรือฟังก์ชันนั้น ๆ เป็นของตัวเอง\n",
    "\n",
    "ดังนั้น static จะไม่ต้องสร้างอ็อบเจกต์ใหม่เพื่อเข้าถึง แต่ instance ต้องสร้างอ็อบเจกต์เพื่อใช้ตัวแปรหรือฟังก์ชันนั้น ๆ ของมัน"
   ]
  },
  {
   "cell_type": "markdown",
   "metadata": {},
   "source": [
    "2. เหตุใดเราจึงสามารถเข้าถึง Person.name และ Person.GetName() ได้โดยตรงผ่านชื่อ class โดยไม่ต้องสร้าง object"
   ]
  },
  {
   "cell_type": "markdown",
   "metadata": {},
   "source": []
  },
  {
   "cell_type": "markdown",
   "metadata": {},
   "source": [
    "เราสามารถเข้าถึง Person.name และ Person.GetName() ได้โดยตรงผ่านชื่อคลาส เพราะทั้งสองสิ่งนั้นเป็น static ซึ่งหมายความว่ามันไม่เกี่ยวข้องกับอ็อบเจกต์ใด ๆ แต่จะเชื่อมโยงกับตัวคลาสเองโดยตรง ดังนั้น ไม่จำเป็นต้องสร้างอ็อบเจกต์ของคลาสนั้นเพื่อเข้าถึงสิ่งเหล่านี้ เพราะมันถูกจัดเก็บและใช้งานร่วมกันในระดับคลาสเดียวกัน"
   ]
  },
  {
   "cell_type": "markdown",
   "metadata": {},
   "source": [
    "\n",
    "3. Static class มีข้อจำกัดอะไรบ้าง\n"
   ]
  },
  {
   "cell_type": "markdown",
   "metadata": {},
   "source": [
    "Static class มีข้อจำกัดหลายประการ เช่น:\n",
    "\n",
    "ไม่สามารถสร้างอ็อบเจกต์จาก static class ได้ เนื่องจากมันถูกออกแบบมาให้ใช้แค่ในระดับคลาสเท่านั้น\n",
    "\n",
    "ไม่สามารถมี instance field หรือ instance method เพราะทุกอย่างใน static class ต้องเป็น static\n",
    "\n",
    "ไม่สามารถสืบทอด (inherit) static class ได้ เพราะมันไม่สามารถเป็นคลาสฐานให้กับคลาสอื่น\n",
    "\n",
    "ไม่สามารถกำหนดตัวแปรหรือฟังก์ชันใน static class ให้เป็น abstract หรือ virtual ได้ เนื่องจากมันไม่สามารถถูกแทนที่หรือขยายในคลาสย่อย"
   ]
  },
  {
   "cell_type": "markdown",
   "metadata": {},
   "source": [
    "4. เราไม่สามารถสร้าง instance ของ static class ได้เพราะอะไร"
   ]
  },
  {
   "cell_type": "markdown",
   "metadata": {},
   "source": [
    "เราไม่สามารถสร้าง instance ของ static class ได้เพราะว่า static class ถูกออกแบบมาให้เป็นคลาสที่ไม่ต้องการการสร้างอ็อบเจกต์ใหม่เพื่อใช้งาน ทุกอย่างใน static class จะถูกเข้าถึงผ่านคลาสโดยตรง ไม่ผ่านอ็อบเจกต์ ดังนั้น การสร้างอ็อบเจกต์จาก static class จึงไม่มีความหมายและไม่สามารถทำได้ เพราะมันถูกออกแบบมาให้มีการใช้สมาชิกทั้งหมด (เช่น ฟังก์ชันหรือข้อมูล) ในระดับคลาสเดียวกัน ไม่ต้องการสถานะของอ็อบเจกต์"
   ]
  },
  {
   "cell_type": "markdown",
   "metadata": {},
   "source": [
    "5. ประโยชน์ของการใช้ static class คืออะไร  มีสถานการณ์ใดบ้างที่เราควรใช้ static class"
   ]
  },
  {
   "cell_type": "markdown",
   "metadata": {},
   "source": [
    "ประโยชน์ของการใช้ static class คือการที่เราสามารถจัดการกับฟังก์ชันหรือข้อมูลที่ไม่จำเป็นต้องผูกกับสถานะของอ็อบเจกต์หรืออินสแตนซ์ใด ๆ ซึ่งช่วยให้ประหยัดทรัพยากรและลดความซับซ้อนในการสร้างอ็อบเจกต์ โดยที่ทุกอย่างใน static class จะเป็นสมาชิกของคลาสนั้น ๆ และไม่สามารถเปลี่ยนแปลงหรือมีสถานะเฉพาะสำหรับอ็อบเจกต์\n",
    "\n",
    "สถานการณ์ที่ควรใช้ static class ได้แก่:\n",
    "\n",
    "เมื่อเราต้องการฟังก์ชันหรือข้อมูลที่ไม่ต้องการสถานะ: เช่น ฟังก์ชันคำนวณทางคณิตศาสตร์ที่ไม่เกี่ยวข้องกับข้อมูลภายในของอ็อบเจกต์\n",
    "\n",
    "เมื่อมีฟังก์ชันที่ใช้ร่วมกันในหลายที่: เช่น การจัดการกับการตั้งค่าทั่วไป (configuration) ที่จะถูกใช้ทั่วทั้งโปรแกรม\n",
    "\n",
    "เมื่อไม่จำเป็นต้องสร้างอ็อบเจกต์เพื่อใช้งาน: เช่นการใช้ utility functions หรือ helper functions ที่ทำงานได้ทันทีโดยไม่ต้องการข้อมูลจากอินสแตนซ์"
   ]
  }
 ],
 "metadata": {
  "kernelspec": {
   "display_name": ".NET (C#)",
   "language": "C#",
   "name": ".net-csharp"
  },
  "polyglot_notebook": {
   "kernelInfo": {
    "defaultKernelName": "csharp",
    "items": [
     {
      "aliases": [],
      "languageName": "csharp",
      "name": "csharp"
     }
    ]
   }
  }
 },
 "nbformat": 4,
 "nbformat_minor": 2
}
